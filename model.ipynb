{
 "cells": [
  {
   "cell_type": "code",
   "execution_count": 3,
   "metadata": {},
   "outputs": [],
   "source": [
    "import pandas as pd \n",
    "import numpy as np\n",
    "import pickle\n",
    "\n",
    "from sklearn.preprocessing import LabelEncoder, OneHotEncoder\n",
    "from sklearn.model_selection import train_test_split\n",
    "from sklearn.tree import DecisionTreeRegressor\n",
    "from sklearn.ensemble import RandomForestRegressor\n",
    "from sklearn.compose import ColumnTransformer\n",
    "from sklearn.svm import SVR\n",
    "from xgboost import XGBRegressor"
   ]
  },
  {
   "cell_type": "code",
   "execution_count": 4,
   "metadata": {},
   "outputs": [],
   "source": [
    "url = 'https://raw.githubusercontent.com/sharonkadamandla/IPL_game_prediction/main/ipl_data.csv'\n",
    "df = pd.read_csv(url)"
   ]
  },
  {
   "cell_type": "code",
   "execution_count": 5,
   "metadata": {},
   "outputs": [
    {
     "data": {
      "text/html": [
       "<div>\n",
       "<style scoped>\n",
       "    .dataframe tbody tr th:only-of-type {\n",
       "        vertical-align: middle;\n",
       "    }\n",
       "\n",
       "    .dataframe tbody tr th {\n",
       "        vertical-align: top;\n",
       "    }\n",
       "\n",
       "    .dataframe thead th {\n",
       "        text-align: right;\n",
       "    }\n",
       "</style>\n",
       "<table border=\"1\" class=\"dataframe\">\n",
       "  <thead>\n",
       "    <tr style=\"text-align: right;\">\n",
       "      <th></th>\n",
       "      <th>mid</th>\n",
       "      <th>date</th>\n",
       "      <th>venue</th>\n",
       "      <th>bat_team</th>\n",
       "      <th>bowl_team</th>\n",
       "      <th>batsman</th>\n",
       "      <th>bowler</th>\n",
       "      <th>runs</th>\n",
       "      <th>wickets</th>\n",
       "      <th>overs</th>\n",
       "      <th>runs_last_5</th>\n",
       "      <th>wickets_last_5</th>\n",
       "      <th>striker</th>\n",
       "      <th>non-striker</th>\n",
       "      <th>total</th>\n",
       "    </tr>\n",
       "  </thead>\n",
       "  <tbody>\n",
       "    <tr>\n",
       "      <th>0</th>\n",
       "      <td>1</td>\n",
       "      <td>2008-04-18</td>\n",
       "      <td>M Chinnaswamy Stadium</td>\n",
       "      <td>Kolkata Knight Riders</td>\n",
       "      <td>Royal Challengers Bangalore</td>\n",
       "      <td>SC Ganguly</td>\n",
       "      <td>P Kumar</td>\n",
       "      <td>1</td>\n",
       "      <td>0</td>\n",
       "      <td>0.1</td>\n",
       "      <td>1</td>\n",
       "      <td>0</td>\n",
       "      <td>0</td>\n",
       "      <td>0</td>\n",
       "      <td>222</td>\n",
       "    </tr>\n",
       "    <tr>\n",
       "      <th>1</th>\n",
       "      <td>1</td>\n",
       "      <td>2008-04-18</td>\n",
       "      <td>M Chinnaswamy Stadium</td>\n",
       "      <td>Kolkata Knight Riders</td>\n",
       "      <td>Royal Challengers Bangalore</td>\n",
       "      <td>BB McCullum</td>\n",
       "      <td>P Kumar</td>\n",
       "      <td>1</td>\n",
       "      <td>0</td>\n",
       "      <td>0.2</td>\n",
       "      <td>1</td>\n",
       "      <td>0</td>\n",
       "      <td>0</td>\n",
       "      <td>0</td>\n",
       "      <td>222</td>\n",
       "    </tr>\n",
       "    <tr>\n",
       "      <th>2</th>\n",
       "      <td>1</td>\n",
       "      <td>2008-04-18</td>\n",
       "      <td>M Chinnaswamy Stadium</td>\n",
       "      <td>Kolkata Knight Riders</td>\n",
       "      <td>Royal Challengers Bangalore</td>\n",
       "      <td>BB McCullum</td>\n",
       "      <td>P Kumar</td>\n",
       "      <td>2</td>\n",
       "      <td>0</td>\n",
       "      <td>0.2</td>\n",
       "      <td>2</td>\n",
       "      <td>0</td>\n",
       "      <td>0</td>\n",
       "      <td>0</td>\n",
       "      <td>222</td>\n",
       "    </tr>\n",
       "    <tr>\n",
       "      <th>3</th>\n",
       "      <td>1</td>\n",
       "      <td>2008-04-18</td>\n",
       "      <td>M Chinnaswamy Stadium</td>\n",
       "      <td>Kolkata Knight Riders</td>\n",
       "      <td>Royal Challengers Bangalore</td>\n",
       "      <td>BB McCullum</td>\n",
       "      <td>P Kumar</td>\n",
       "      <td>2</td>\n",
       "      <td>0</td>\n",
       "      <td>0.3</td>\n",
       "      <td>2</td>\n",
       "      <td>0</td>\n",
       "      <td>0</td>\n",
       "      <td>0</td>\n",
       "      <td>222</td>\n",
       "    </tr>\n",
       "    <tr>\n",
       "      <th>4</th>\n",
       "      <td>1</td>\n",
       "      <td>2008-04-18</td>\n",
       "      <td>M Chinnaswamy Stadium</td>\n",
       "      <td>Kolkata Knight Riders</td>\n",
       "      <td>Royal Challengers Bangalore</td>\n",
       "      <td>BB McCullum</td>\n",
       "      <td>P Kumar</td>\n",
       "      <td>2</td>\n",
       "      <td>0</td>\n",
       "      <td>0.4</td>\n",
       "      <td>2</td>\n",
       "      <td>0</td>\n",
       "      <td>0</td>\n",
       "      <td>0</td>\n",
       "      <td>222</td>\n",
       "    </tr>\n",
       "  </tbody>\n",
       "</table>\n",
       "</div>"
      ],
      "text/plain": [
       "   mid        date                  venue               bat_team  \\\n",
       "0    1  2008-04-18  M Chinnaswamy Stadium  Kolkata Knight Riders   \n",
       "1    1  2008-04-18  M Chinnaswamy Stadium  Kolkata Knight Riders   \n",
       "2    1  2008-04-18  M Chinnaswamy Stadium  Kolkata Knight Riders   \n",
       "3    1  2008-04-18  M Chinnaswamy Stadium  Kolkata Knight Riders   \n",
       "4    1  2008-04-18  M Chinnaswamy Stadium  Kolkata Knight Riders   \n",
       "\n",
       "                     bowl_team      batsman   bowler  runs  wickets  overs  \\\n",
       "0  Royal Challengers Bangalore   SC Ganguly  P Kumar     1        0    0.1   \n",
       "1  Royal Challengers Bangalore  BB McCullum  P Kumar     1        0    0.2   \n",
       "2  Royal Challengers Bangalore  BB McCullum  P Kumar     2        0    0.2   \n",
       "3  Royal Challengers Bangalore  BB McCullum  P Kumar     2        0    0.3   \n",
       "4  Royal Challengers Bangalore  BB McCullum  P Kumar     2        0    0.4   \n",
       "\n",
       "   runs_last_5  wickets_last_5  striker  non-striker  total  \n",
       "0            1               0        0            0    222  \n",
       "1            1               0        0            0    222  \n",
       "2            2               0        0            0    222  \n",
       "3            2               0        0            0    222  \n",
       "4            2               0        0            0    222  "
      ]
     },
     "execution_count": 5,
     "metadata": {},
     "output_type": "execute_result"
    }
   ],
   "source": [
    "df.head()"
   ]
  },
  {
   "cell_type": "markdown",
   "metadata": {},
   "source": [
    "#### Understanding data"
   ]
  },
  {
   "cell_type": "code",
   "execution_count": 6,
   "metadata": {},
   "outputs": [
    {
     "name": "stdout",
     "output_type": "stream",
     "text": [
      "\n",
      "Data types:\n",
      "mid                 int64\n",
      "date               object\n",
      "venue              object\n",
      "bat_team           object\n",
      "bowl_team          object\n",
      "batsman            object\n",
      "bowler             object\n",
      "runs                int64\n",
      "wickets             int64\n",
      "overs             float64\n",
      "runs_last_5         int64\n",
      "wickets_last_5      int64\n",
      "striker             int64\n",
      "non-striker         int64\n",
      "total               int64\n",
      "dtype: object\n",
      "\n",
      "Missing values:\n",
      "mid               0\n",
      "date              0\n",
      "venue             0\n",
      "bat_team          0\n",
      "bowl_team         0\n",
      "batsman           0\n",
      "bowler            0\n",
      "runs              0\n",
      "wickets           0\n",
      "overs             0\n",
      "runs_last_5       0\n",
      "wickets_last_5    0\n",
      "striker           0\n",
      "non-striker       0\n",
      "total             0\n",
      "dtype: int64\n",
      "\n",
      "Summary statistics for numerical columns:\n",
      "                mid          runs       wickets         overs   runs_last_5  \\\n",
      "count  76014.000000  76014.000000  76014.000000  76014.000000  76014.000000   \n",
      "mean     308.627740     74.889349      2.415844      9.783068     33.216434   \n",
      "std      178.156878     48.823327      2.015207      5.772587     14.914174   \n",
      "min        1.000000      0.000000      0.000000      0.000000      0.000000   \n",
      "25%      154.000000     34.000000      1.000000      4.600000     24.000000   \n",
      "50%      308.000000     70.000000      2.000000      9.600000     34.000000   \n",
      "75%      463.000000    111.000000      4.000000     14.600000     43.000000   \n",
      "max      617.000000    263.000000     10.000000     19.600000    113.000000   \n",
      "\n",
      "       wickets_last_5       striker   non-striker         total  \n",
      "count    76014.000000  76014.000000  76014.000000  76014.000000  \n",
      "mean         1.120307     24.962283      8.869287    160.901452  \n",
      "std          1.053343     20.079752     10.795742     29.246231  \n",
      "min          0.000000      0.000000      0.000000     67.000000  \n",
      "25%          0.000000     10.000000      1.000000    142.000000  \n",
      "50%          1.000000     20.000000      5.000000    162.000000  \n",
      "75%          2.000000     35.000000     13.000000    181.000000  \n",
      "max          7.000000    175.000000    109.000000    263.000000  \n",
      "\n",
      "Value counts for categorical columns:\n",
      "\n",
      "date:\n",
      "2010-03-25    257\n",
      "2011-04-22    257\n",
      "2012-05-20    256\n",
      "2015-04-25    255\n",
      "2014-05-14    254\n",
      "             ... \n",
      "2014-05-02    103\n",
      "2008-05-07    103\n",
      "2008-05-16     98\n",
      "2012-04-05     74\n",
      "2015-05-13     63\n",
      "Name: date, Length: 442, dtype: int64\n",
      "\n",
      "venue:\n",
      "M Chinnaswamy Stadium                                   7443\n",
      "Feroz Shah Kotla                                        7068\n",
      "Eden Gardens                                            7049\n",
      "Wankhede Stadium                                        7048\n",
      "MA Chidambaram Stadium, Chepauk                         5972\n",
      "Rajiv Gandhi International Stadium, Uppal               5827\n",
      "Punjab Cricket Association Stadium, Mohali              4247\n",
      "Sawai Mansingh Stadium                                  4110\n",
      "Dr DY Patil Sports Academy                              2088\n",
      "Subrata Roy Sahara Stadium                              2086\n",
      "Maharashtra Cricket Association Stadium                 1843\n",
      "Kingsmead                                               1731\n",
      "Sardar Patel Stadium, Motera                            1484\n",
      "Brabourne Stadium                                       1380\n",
      "SuperSport Park                                         1377\n",
      "Punjab Cricket Association IS Bindra Stadium, Mohali    1342\n",
      "Saurashtra Cricket Association Stadium                  1229\n",
      "Himachal Pradesh Cricket Association Stadium            1115\n",
      "Dr. Y.S. Rajasekhara Reddy ACA-VDCA Cricket Stadium     1113\n",
      "New Wanderers Stadium                                    995\n",
      "St George's Park                                         870\n",
      "Dubai International Cricket Stadium                      868\n",
      "Barabati Stadium                                         856\n",
      "JSCA International Stadium Complex                       837\n",
      "Sheikh Zayed Stadium                                     836\n",
      "Sharjah Cricket Stadium                                  744\n",
      "Shaheed Veer Narayan Singh International Stadium         742\n",
      "Newlands                                                 737\n",
      "Holkar Cricket Stadium                                   617\n",
      "Nehru Stadium                                            499\n",
      "Green Park                                               492\n",
      "Buffalo Park                                             380\n",
      "Vidarbha Cricket Association Stadium, Jamtha             370\n",
      "De Beers Diamond Oval                                    368\n",
      "OUTsurance Oval                                          251\n",
      "Name: venue, dtype: int64\n",
      "\n",
      "bat_team:\n",
      "Mumbai Indians                 10213\n",
      "Kings XI Punjab                 9219\n",
      "Chennai Super Kings             9142\n",
      "Royal Challengers Bangalore     8331\n",
      "Kolkata Knight Riders           8033\n",
      "Delhi Daredevils                7152\n",
      "Rajasthan Royals                6643\n",
      "Deccan Chargers                 5280\n",
      "Sunrisers Hyderabad             5216\n",
      "Pune Warriors                   2448\n",
      "Gujarat Lions                   1726\n",
      "Rising Pune Supergiant           994\n",
      "Kochi Tuskers Kerala             876\n",
      "Rising Pune Supergiants          741\n",
      "Name: bat_team, dtype: int64\n",
      "\n",
      "bowl_team:\n",
      "Delhi Daredevils               10245\n",
      "Royal Challengers Bangalore     9661\n",
      "Mumbai Indians                  9271\n",
      "Kolkata Knight Riders           9211\n",
      "Kings XI Punjab                 8405\n",
      "Rajasthan Royals                7773\n",
      "Chennai Super Kings             6497\n",
      "Deccan Chargers                 3984\n",
      "Sunrisers Hyderabad             3589\n",
      "Pune Warriors                   3083\n",
      "Gujarat Lions                   1970\n",
      "Rising Pune Supergiant           962\n",
      "Kochi Tuskers Kerala             736\n",
      "Rising Pune Supergiants          627\n",
      "Name: bowl_team, dtype: int64\n",
      "\n",
      "batsman:\n",
      "SK Raina          1921\n",
      "V Kohli           1825\n",
      "S Dhawan          1730\n",
      "RG Sharma         1726\n",
      "MS Dhoni          1584\n",
      "                  ... \n",
      "T Henderson          1\n",
      "NJ Rimmington        1\n",
      "LH Ferguson          1\n",
      "P Parameswaran       1\n",
      "V Pratap Singh       1\n",
      "Name: batsman, Length: 411, dtype: int64\n",
      "\n",
      "bowler:\n",
      "Harbhajan Singh    1404\n",
      "PP Chawla          1399\n",
      "P Kumar            1386\n",
      "SL Malinga         1333\n",
      "UT Yadav           1304\n",
      "                   ... \n",
      "DB Ravi Teja          6\n",
      "KS Williamson         6\n",
      "CK Kapugedera         6\n",
      "P Prasanth            6\n",
      "SA Yadav              6\n",
      "Name: bowler, Length: 329, dtype: int64\n",
      "\n",
      "Duplicate rows:\n",
      "0\n"
     ]
    }
   ],
   "source": [
    "print(\"\\nData types:\")\n",
    "print(df.dtypes)\n",
    "\n",
    "print(\"\\nMissing values:\")\n",
    "print(df.isnull().sum())\n",
    "\n",
    "print(\"\\nSummary statistics for numerical columns:\")\n",
    "print(df.describe())\n",
    "\n",
    "print(\"\\nValue counts for categorical columns:\")\n",
    "for column in df.select_dtypes(include=['object']).columns:\n",
    "    print(f\"\\n{column}:\")\n",
    "    print(df[column].value_counts())\n",
    "\n",
    "print(\"\\nDuplicate rows:\")\n",
    "print(df.duplicated().sum())"
   ]
  },
  {
   "cell_type": "markdown",
   "metadata": {},
   "source": [
    "#### Data Cleaning \n",
    "Data has no missing values or null values"
   ]
  },
  {
   "cell_type": "markdown",
   "metadata": {},
   "source": [
    "#### Data Processing"
   ]
  },
  {
   "cell_type": "code",
   "execution_count": 7,
   "metadata": {},
   "outputs": [],
   "source": [
    "# Droping Colums\n",
    "irrelevant = ['mid', 'date', 'venue','batsman', 'bowler', 'striker', 'non-striker']\n",
    "df = df.drop(irrelevant, axis=1)\n",
    "\n",
    "# Dropping Teams\n",
    "const_teams = ['Kolkata Knight Riders', 'Chennai Super Kings', 'Rajasthan Royals',\n",
    "              'Mumbai Indians', 'Kings XI Punjab', 'Royal Challengers Bangalore',\n",
    "              'Delhi Daredevils', 'Sunrisers Hyderabad']\n",
    "df = df[(df['bat_team'].isin(const_teams)) & (df['bowl_team'].isin(const_teams))]\n",
    "df = df[df['overs'] >= 5.0]"
   ]
  },
  {
   "cell_type": "markdown",
   "metadata": {},
   "source": [
    "#### Encoding"
   ]
  },
  {
   "cell_type": "code",
   "execution_count": 8,
   "metadata": {},
   "outputs": [],
   "source": [
    "#label encoder\n",
    "label_encoder = LabelEncoder()\n",
    "for col in ['bat_team', 'bowl_team']:\n",
    "  df[col] = label_encoder.fit_transform(df[col])\n",
    "\n",
    "#onehot encoding\n",
    "columnTransformer = ColumnTransformer([('encoder', OneHotEncoder(), [0, 1])], remainder='passthrough')\n",
    "ipl_df = np.array(columnTransformer.fit_transform(df))"
   ]
  },
  {
   "cell_type": "code",
   "execution_count": 9,
   "metadata": {},
   "outputs": [],
   "source": [
    "cols = ['batting_team_Chennai Super Kings', 'batting_team_Delhi Daredevils', 'batting_team_Kings XI Punjab',\n",
    "              'batting_team_Kolkata Knight Riders', 'batting_team_Mumbai Indians', 'batting_team_Rajasthan Royals',\n",
    "              'batting_team_Royal Challengers Bangalore', 'batting_team_Sunrisers Hyderabad',\n",
    "              'bowling_team_Chennai Super Kings', 'bowling_team_Delhi Daredevils', 'bowling_team_Kings XI Punjab',\n",
    "              'bowling_team_Kolkata Knight Riders', 'bowling_team_Mumbai Indians', 'bowling_team_Rajasthan Royals',\n",
    "              'bowling_team_Royal Challengers Bangalore', 'bowling_team_Sunrisers Hyderabad', 'runs', 'wickets', 'overs',\n",
    "       'runs_last_5', 'wickets_last_5', 'total']\n",
    "df = pd.DataFrame(ipl_df, columns=cols)"
   ]
  },
  {
   "cell_type": "code",
   "execution_count": 10,
   "metadata": {},
   "outputs": [
    {
     "name": "stdout",
     "output_type": "stream",
     "text": [
      "Training Set : (32086, 21)\n",
      "Testing Set : (8022, 21)\n"
     ]
    }
   ],
   "source": [
    "# assign colums, split data\n",
    "x = df.drop(['total'], axis=1)\n",
    "y = df['total']\n",
    "\n",
    "train_x, test_x, train_y, test_y = train_test_split(x, y, test_size=0.20, shuffle=True)\n",
    "print(f\"Training Set : {train_x.shape}\\nTesting Set : {test_x.shape}\")"
   ]
  },
  {
   "cell_type": "markdown",
   "metadata": {},
   "source": [
    "# Models"
   ]
  },
  {
   "cell_type": "code",
   "execution_count": 11,
   "metadata": {},
   "outputs": [],
   "source": [
    "models = dict()"
   ]
  },
  {
   "cell_type": "markdown",
   "metadata": {},
   "source": [
    "#### Linear Regression"
   ]
  },
  {
   "cell_type": "code",
   "execution_count": 12,
   "metadata": {},
   "outputs": [
    {
     "name": "stdout",
     "output_type": "stream",
     "text": [
      "Train Score : 66.02%\n",
      "Test Score : 65.47%\n"
     ]
    }
   ],
   "source": [
    "from sklearn.linear_model import LinearRegression\n",
    "linreg = LinearRegression()\n",
    "\n",
    "# Train Model\n",
    "linreg.fit(train_x, train_y)\n",
    "\n",
    "# Evaluate Model\n",
    "train_score_linreg = str(linreg.score(train_x, train_y) * 100)\n",
    "test_score_linreg = str(linreg.score(test_x, test_y) * 100)\n",
    "print(f'Train Score : {train_score_linreg[:5]}%\\nTest Score : {test_score_linreg[:5]}%')\n",
    "models[\"linreg\"] = test_score_linreg"
   ]
  },
  {
   "cell_type": "markdown",
   "metadata": {},
   "source": [
    "#### SVM"
   ]
  },
  {
   "cell_type": "code",
   "execution_count": 13,
   "metadata": {},
   "outputs": [
    {
     "name": "stdout",
     "output_type": "stream",
     "text": [
      "Train Score : 57.64%\n",
      "Test Score : 57.22%\n"
     ]
    }
   ],
   "source": [
    "svm = SVR()\n",
    "# Train Model\n",
    "svm.fit(train_x, train_y)\n",
    "\n",
    "train_score_svm = str(svm.score(train_x, train_y)*100)\n",
    "test_score_svm = str(svm.score(test_x, test_y)*100)\n",
    "print(f'Train Score : {train_score_svm[:5]}%\\nTest Score : {test_score_svm[:5]}%')\n",
    "models[\"svm\"] = test_score_svm "
   ]
  },
  {
   "cell_type": "markdown",
   "metadata": {},
   "source": [
    "#### Decision Tree Regressor"
   ]
  },
  {
   "cell_type": "code",
   "execution_count": 14,
   "metadata": {},
   "outputs": [
    {
     "name": "stdout",
     "output_type": "stream",
     "text": [
      "Train Score : 99.98%\n",
      "Test Score : 85.50%\n"
     ]
    }
   ],
   "source": [
    "tree = DecisionTreeRegressor()\n",
    "# Train Model\n",
    "tree.fit(train_x, train_y)\n",
    "\n",
    "# Evaluate Model\n",
    "train_score_tree = str(tree.score(train_x, train_y) * 100)\n",
    "test_score_tree = str(tree.score(test_x, test_y) * 100)\n",
    "print(f'Train Score : {train_score_tree[:5]}%\\nTest Score : {test_score_tree[:5]}%')\n",
    "models[\"tree\"] = test_score_tree"
   ]
  },
  {
   "cell_type": "markdown",
   "metadata": {},
   "source": [
    "#### Lasso Regression"
   ]
  },
  {
   "cell_type": "code",
   "execution_count": 15,
   "metadata": {},
   "outputs": [],
   "source": [
    "xgb = XGBRegressor()\n",
    "# Train Model\n",
    "xgb.fit(train_x, train_y)\n",
    "\n",
    "train_score_xgb = str(xgb.score(train_x, train_y)*100)\n",
    "test_score_xgb = str(xgb.score(test_x, test_y)*100)\n",
    "print(f'Train Score : {train_score_xgb[:5]}%\\nTest Score : {test_score_xgb[:5]}%')\n",
    "models[\"xgb\"] = test_score_xgb"
   ]
  },
  {
   "cell_type": "markdown",
   "metadata": {},
   "source": [
    "#### Random Forest Regression"
   ]
  },
  {
   "cell_type": "code",
   "execution_count": 16,
   "metadata": {},
   "outputs": [
    {
     "name": "stdout",
     "output_type": "stream",
     "text": [
      "Train Score : 99.06%\n",
      "Test Score : 93.20%\n"
     ]
    }
   ],
   "source": [
    "forest = RandomForestRegressor()\n",
    "\n",
    "# Train Model\n",
    "forest.fit(train_x, train_y)\n",
    "\n",
    "# Evaluate Model\n",
    "train_score_forest = str(forest.score(train_x, train_y)*100)\n",
    "test_score_forest = str(forest.score(test_x, test_y)*100)\n",
    "print(f'Train Score : {train_score_forest[:5]}%\\nTest Score : {test_score_forest[:5]}%')\n",
    "models[\"forest\"] = test_score_forest"
   ]
  },
  {
   "cell_type": "code",
   "execution_count": 18,
   "metadata": {},
   "outputs": [],
   "source": [
    "pickle.dump(forest, open(\"rf_model.pkl\", \"wb\"))"
   ]
  }
 ],
 "metadata": {
  "kernelspec": {
   "display_name": "base",
   "language": "python",
   "name": "python3"
  },
  "language_info": {
   "codemirror_mode": {
    "name": "ipython",
    "version": 3
   },
   "file_extension": ".py",
   "mimetype": "text/x-python",
   "name": "python",
   "nbconvert_exporter": "python",
   "pygments_lexer": "ipython3",
   "version": "3.11.4"
  }
 },
 "nbformat": 4,
 "nbformat_minor": 2
}
